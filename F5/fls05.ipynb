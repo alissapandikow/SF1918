{
 "cells": [
  {
   "cell_type": "markdown",
   "metadata": {},
   "source": [
    "### Förberedelser\n",
    "\n",
    "Importera matplotlib, NumPy och statistikmodulen i SciPy"
   ]
  },
  {
   "cell_type": "code",
   "execution_count": 1,
   "metadata": {},
   "outputs": [],
   "source": [
    "import matplotlib.pyplot as plt\n",
    "import numpy as np\n",
    "\n",
    "from scipy import stats"
   ]
  },
  {
   "cell_type": "markdown",
   "metadata": {},
   "source": [
    "Definera de $x$-värden för vilka vi vill beräkna sannolikhetsfunktionen $p_X(x)$"
   ]
  },
  {
   "cell_type": "code",
   "execution_count": 2,
   "metadata": {},
   "outputs": [
    {
     "name": "stdout",
     "output_type": "stream",
     "text": [
      "[ 0  1  2  3  4  5  6  7  8  9 10]\n"
     ]
    }
   ],
   "source": [
    "# Övre gränsen är exklusiv, så lägg till ett\n",
    "xs = np.arange(0, 10 + 1)\n",
    "\n",
    "print(xs)"
   ]
  },
  {
   "cell_type": "markdown",
   "metadata": {},
   "source": [
    "### Bernoullifördelning\n",
    "\n",
    "Vi börjar med $X \\sim \\mathrm{Ber}(0.3)$. Det finns två sätt att arbeta med stokastiska variabler i SciPy. Det första går ut på att skapa ett objekt som motsvarar den stokastiska variabeln och dess parametrar."
   ]
  },
  {
   "cell_type": "code",
   "execution_count": 3,
   "metadata": {},
   "outputs": [],
   "source": [
    "X = stats.bernoulli(0.3)"
   ]
  },
  {
   "cell_type": "markdown",
   "metadata": {},
   "source": [
    "Sedan kan man anropa olika metoder hos objektet. Först plottar vi dess sannolikhetsfunktion (eng. “probility mass function (pmf)”)."
   ]
  },
  {
   "cell_type": "code",
   "execution_count": 4,
   "metadata": {},
   "outputs": [
    {
     "data": {
      "image/png": "[encoded data removed]",
      "text/plain": [
       "<Figure size 432x288 with 1 Axes>"
      ]
     },
     "metadata": {
      "needs_background": "light"
     },
     "output_type": "display_data"
    }
   ],
   "source": [
    "plt.bar(xs, X.pmf(xs))\n",
    "plt.xticks(xs)\n",
    "plt.xlabel(\"$x$\")\n",
    "plt.ylabel(\"$p_X(x)$\")\n",
    "plt.show()"
   ]
  },
  {
   "cell_type": "markdown",
   "metadata": {},
   "source": [
    "En annan viktig metod är `rvs` (eng. “random variates”) som används för att generera utfall av variabeln."
   ]
  },
  {
   "cell_type": "code",
   "execution_count": 5,
   "metadata": {},
   "outputs": [
    {
     "name": "stdout",
     "output_type": "stream",
     "text": [
      "[1 0 0 0 0 1 0 0 0 0 0 0 0 0 0 0 0 0 1 0]\n"
     ]
    }
   ],
   "source": [
    "vals = X.rvs(size=20)\n",
    "print(vals)"
   ]
  },
  {
   "cell_type": "markdown",
   "metadata": {},
   "source": [
    "Antalet ettor här borde vara runt $0.3$."
   ]
  },
  {
   "cell_type": "code",
   "execution_count": 6,
   "metadata": {},
   "outputs": [
    {
     "name": "stdout",
     "output_type": "stream",
     "text": [
      "0.15\n"
     ]
    }
   ],
   "source": [
    "prop = np.sum(vals == 1) / len(vals)\n",
    "print(prop)"
   ]
  },
  {
   "cell_type": "markdown",
   "metadata": {},
   "source": [
    "Ett annat sätt att använda stats-modulen i SciPy är att anropa funktionerna direkt utan att skapa ett objekt. Då måste man ange parametrarna varje gång."
   ]
  },
  {
   "cell_type": "code",
   "execution_count": 7,
   "metadata": {},
   "outputs": [
    {
     "data": {
      "image/png": "[encoded data removed]",
      "text/plain": [
       "<Figure size 432x288 with 1 Axes>"
      ]
     },
     "metadata": {
      "needs_background": "light"
     },
     "output_type": "display_data"
    }
   ],
   "source": [
    "plt.bar(xs, stats.bernoulli.pmf(xs, p=0.3))\n",
    "plt.xticks(xs)\n",
    "plt.xlabel(\"$x$\")\n",
    "plt.ylabel(\"$p_X(x)$\")\n",
    "plt.show()"
   ]
  },
  {
   "cell_type": "code",
   "execution_count": 8,
   "metadata": {},
   "outputs": [
    {
     "name": "stdout",
     "output_type": "stream",
     "text": [
      "[0 1 0 1 0 0 1 0 0 0 0 0 0 1 0 1 0 0 0 0]\n"
     ]
    }
   ],
   "source": [
    "vals = stats.bernoulli.rvs(p=0.3, size=20)\n",
    "print(vals)"
   ]
  },
  {
   "cell_type": "markdown",
   "metadata": {},
   "source": [
    "### Likformig fördelning\n",
    "\n",
    "Kan göra samma sak med $X \\sim \\mathrm{U}(\\{1, 2, 3, 4, 5\\})$."
   ]
  },
  {
   "cell_type": "code",
   "execution_count": 9,
   "metadata": {},
   "outputs": [],
   "source": [
    "# Övre gränsen är exklusiv återigen – lägg till ett\n",
    "X = stats.randint(1, 5 + 1)"
   ]
  },
  {
   "cell_type": "code",
   "execution_count": 10,
   "metadata": {},
   "outputs": [
    {
     "data": {
      "image/png": "[encoded data removed]",
      "text/plain": [
       "<Figure size 432x288 with 1 Axes>"
      ]
     },
     "metadata": {
      "needs_background": "light"
     },
     "output_type": "display_data"
    }
   ],
   "source": [
    "plt.bar(xs, X.pmf(xs))\n",
    "plt.xticks(xs)\n",
    "plt.xlabel(\"$x$\")\n",
    "plt.ylabel(\"$p_X(x)$\")\n",
    "plt.show()"
   ]
  },
  {
   "cell_type": "code",
   "execution_count": 11,
   "metadata": {},
   "outputs": [
    {
     "name": "stdout",
     "output_type": "stream",
     "text": [
      "[2 1 2 4 2 1 1 4 2 2 5 4 5 2 2 5 5 2 5 2]\n"
     ]
    }
   ],
   "source": [
    "vals = X.rvs(size=20)\n",
    "print(vals)"
   ]
  },
  {
   "cell_type": "markdown",
   "metadata": {},
   "source": [
    "Vi förväntar oss att runt en femtedel av värdena är ettor. Stämmer detta?"
   ]
  },
  {
   "cell_type": "code",
   "execution_count": 12,
   "metadata": {},
   "outputs": [
    {
     "name": "stdout",
     "output_type": "stream",
     "text": [
      "0.15\n"
     ]
    }
   ],
   "source": [
    "prop = np.sum(vals == 1) / len(vals)\n",
    "print(prop)"
   ]
  },
  {
   "cell_type": "markdown",
   "metadata": {},
   "source": [
    "### Geometrisk fördelning\n",
    "\n",
    "En stokastisk variabel med geometrisk fördelning kan anta värden i alla positiva heltal, så det går inte att plotta hela denna sannolikhetsfunktion. Låt $X \\sim \\mathrm{Geo}(0.1)$."
   ]
  },
  {
   "cell_type": "code",
   "execution_count": 13,
   "metadata": {},
   "outputs": [],
   "source": [
    "X = stats.geom(0.1)"
   ]
  },
  {
   "cell_type": "code",
   "execution_count": 14,
   "metadata": {},
   "outputs": [
    {
     "data": {
      "image/png": "[encoded data removed]",
      "text/plain": [
       "<Figure size 432x288 with 1 Axes>"
      ]
     },
     "metadata": {
      "needs_background": "light"
     },
     "output_type": "display_data"
    }
   ],
   "source": [
    "plt.bar(xs, X.pmf(xs))\n",
    "plt.xticks(xs)\n",
    "plt.xlabel(\"$x$\")\n",
    "plt.ylabel(\"$p_X(x)$\")\n",
    "plt.show()"
   ]
  },
  {
   "cell_type": "code",
   "execution_count": 15,
   "metadata": {},
   "outputs": [
    {
     "name": "stdout",
     "output_type": "stream",
     "text": [
      "[27 26  3  4  7  6 26 12  5  8 25 38  8  8 15  4  7 10  8 16]\n"
     ]
    }
   ],
   "source": [
    "vals = X.rvs(size=20)\n",
    "print(vals)"
   ]
  },
  {
   "cell_type": "markdown",
   "metadata": {},
   "source": [
    "Här ska andelen ettor vara ungefär $0.1$."
   ]
  },
  {
   "cell_type": "code",
   "execution_count": 16,
   "metadata": {},
   "outputs": [
    {
     "name": "stdout",
     "output_type": "stream",
     "text": [
      "0.0\n"
     ]
    }
   ],
   "source": [
    "prop = np.sum(vals == 1) / len(vals)\n",
    "print(prop)"
   ]
  },
  {
   "cell_type": "markdown",
   "metadata": {},
   "source": [
    "### Binomialfördelning\n",
    "\n",
    "Låt $X \\sim \\textrm{Bin}(10, 1 / 6)$."
   ]
  },
  {
   "cell_type": "code",
   "execution_count": 17,
   "metadata": {},
   "outputs": [],
   "source": [
    "X = stats.binom(10, 1 / 6)"
   ]
  },
  {
   "cell_type": "code",
   "execution_count": 18,
   "metadata": {},
   "outputs": [
    {
     "data": {
      "image/png": "[encoded data removed]",
      "text/plain": [
       "<Figure size 432x288 with 1 Axes>"
      ]
     },
     "metadata": {
      "needs_background": "light"
     },
     "output_type": "display_data"
    }
   ],
   "source": [
    "plt.bar(xs, X.pmf(xs))\n",
    "plt.xticks(xs)\n",
    "plt.xlabel(\"$x$\")\n",
    "plt.ylabel(\"$p_X(x)$\")\n",
    "plt.show()"
   ]
  },
  {
   "cell_type": "code",
   "execution_count": 19,
   "metadata": {},
   "outputs": [
    {
     "name": "stdout",
     "output_type": "stream",
     "text": [
      "[1 2 3 3 2 1 3 2 3 2 0 4 3 3 2 0 2 3 2 2]\n"
     ]
    }
   ],
   "source": [
    "vals = X.rvs(size=20)\n",
    "print(vals)"
   ]
  },
  {
   "cell_type": "markdown",
   "metadata": {},
   "source": [
    "Här ska andelen ettor vara $10 \\cdot (1/6)\\cdot(5/6)^9 \\approx 0.323$."
   ]
  },
  {
   "cell_type": "code",
   "execution_count": 20,
   "metadata": {},
   "outputs": [
    {
     "name": "stdout",
     "output_type": "stream",
     "text": [
      "0.1\n"
     ]
    }
   ],
   "source": [
    "prop = np.sum(vals == 1) / len(vals)\n",
    "print(prop)"
   ]
  },
  {
   "cell_type": "markdown",
   "metadata": {},
   "source": [
    "### Poissonfördelning\n",
    "\n",
    "Låt $X \\sim \\mathrm{Po}(4)$."
   ]
  },
  {
   "cell_type": "code",
   "execution_count": 21,
   "metadata": {},
   "outputs": [],
   "source": [
    "X = stats.poisson(4)"
   ]
  },
  {
   "cell_type": "code",
   "execution_count": 22,
   "metadata": {},
   "outputs": [
    {
     "data": {
      "image/png": "[encoded data removed]",
      "text/plain": [
       "<Figure size 432x288 with 1 Axes>"
      ]
     },
     "metadata": {
      "needs_background": "light"
     },
     "output_type": "display_data"
    }
   ],
   "source": [
    "plt.bar(xs, X.pmf(xs))\n",
    "plt.xticks(xs)\n",
    "plt.xlabel(\"$x$\")\n",
    "plt.ylabel(\"$p_X(x)$\")\n",
    "plt.show()"
   ]
  },
  {
   "cell_type": "code",
   "execution_count": 23,
   "metadata": {},
   "outputs": [
    {
     "name": "stdout",
     "output_type": "stream",
     "text": [
      "[ 5  4  2  6  3  5  2  3  4  3  4  5  2 10  5  3  0  5  6  4]\n"
     ]
    }
   ],
   "source": [
    "vals = X.rvs(size=20)\n",
    "print(vals)"
   ]
  },
  {
   "cell_type": "markdown",
   "metadata": {},
   "source": [
    "Här kommer proportioner av ettor vara $4 \\cdot e^{-4} / 1! \\approx 0.0733$."
   ]
  },
  {
   "cell_type": "code",
   "execution_count": 24,
   "metadata": {},
   "outputs": [
    {
     "name": "stdout",
     "output_type": "stream",
     "text": [
      "0.0\n"
     ]
    }
   ],
   "source": [
    "prop = np.sum(vals == 1) / len(vals)\n",
    "print(prop)"
   ]
  },
  {
   "cell_type": "markdown",
   "metadata": {},
   "source": [
    "### Hypergeometrisk fördelning\n",
    "\n",
    "Nu låter vi $X \\sim \\mathrm{Hyp}(20, 12, 0.5)$. I stats-modulen motsvarar detta parametrarna `M = 20`, `n = 20 * 0.5`, `N = 12`."
   ]
  },
  {
   "cell_type": "code",
   "execution_count": 25,
   "metadata": {},
   "outputs": [],
   "source": [
    "X = stats.hypergeom(20, 10, 12)"
   ]
  },
  {
   "cell_type": "code",
   "execution_count": 26,
   "metadata": {},
   "outputs": [
    {
     "data": {
      "image/png": "[encoded data removed]",
      "text/plain": [
       "<Figure size 432x288 with 1 Axes>"
      ]
     },
     "metadata": {
      "needs_background": "light"
     },
     "output_type": "display_data"
    }
   ],
   "source": [
    "plt.bar(xs, X.pmf(xs))\n",
    "plt.xticks(xs)\n",
    "plt.xlabel(\"$x$\")\n",
    "plt.ylabel(\"$p_X(x)$\")\n",
    "plt.show()"
   ]
  },
  {
   "cell_type": "code",
   "execution_count": 27,
   "metadata": {},
   "outputs": [
    {
     "name": "stdout",
     "output_type": "stream",
     "text": [
      "[6 5 3 6 7 7 7 4 7 6 5 9 5 7 6 7 6 6 7 7]\n"
     ]
    }
   ],
   "source": [
    "vals = X.rvs(size=20)\n",
    "print(vals)"
   ]
  },
  {
   "cell_type": "markdown",
   "metadata": {},
   "source": [
    "### Likformig fördelning\n",
    "\n",
    "Stats-modulen kan också användas för att modellera kontinuerliga stokastiska variabler. Till exempel kan vi betrakta $X \\sim \\mathrm{U}(1, 3)$. SciPy parametriserar många kontinuerliga fördelningar med avseende på läge (“location”) och skala (“scale”). För den likformiga fördelningen så avser läget det minsta värdet (i vårt fall 1) medan skalan är längden på intervallet (i vårt fall 2)."
   ]
  },
  {
   "cell_type": "code",
   "execution_count": 28,
   "metadata": {},
   "outputs": [],
   "source": [
    "X = stats.uniform(loc=1, scale=2)"
   ]
  },
  {
   "cell_type": "markdown",
   "metadata": {},
   "source": [
    "Som innan kan vi plotta olika funktioner för den stokastiska variabeln, som dess täthetsfunktion (eng. “probability density function (pdf)”)."
   ]
  },
  {
   "cell_type": "code",
   "execution_count": 29,
   "metadata": {},
   "outputs": [
    {
     "data": {
      "image/png": "[encoded data removed]",
      "text/plain": [
       "<Figure size 432x288 with 1 Axes>"
      ]
     },
     "metadata": {
      "needs_background": "light"
     },
     "output_type": "display_data"
    }
   ],
   "source": [
    "# Definiera ett linjärt rutnät mellan 0 och 5.\n",
    "xs = np.linspace(0, 5, 100)\n",
    "\n",
    "# Plotta täthetsfunktionen.\n",
    "plt.plot(xs, X.pdf(xs))\n",
    "plt.xlabel(\"$x$\")\n",
    "plt.ylabel(\"$f_X(x)$\")\n",
    "plt.show()"
   ]
  },
  {
   "cell_type": "markdown",
   "metadata": {},
   "source": [
    "Vi kan också plotta fördelningsfunktionen (eng. “cumulative density function (cdf)”)."
   ]
  },
  {
   "cell_type": "code",
   "execution_count": 30,
   "metadata": {},
   "outputs": [
    {
     "data": {
      "image/png": "[encoded data removed]",
      "text/plain": [
       "<Figure size 432x288 with 1 Axes>"
      ]
     },
     "metadata": {
      "needs_background": "light"
     },
     "output_type": "display_data"
    }
   ],
   "source": [
    "plt.plot(xs, X.cdf(xs))\n",
    "plt.xlabel(\"$x$\")\n",
    "plt.ylabel(\"$F_X(x)$\")\n",
    "plt.show()"
   ]
  },
  {
   "cell_type": "markdown",
   "metadata": {},
   "source": [
    "Som för de diskreta fördelningarna kan vi generera utfall från $X$ genom funktionen `rvs`."
   ]
  },
  {
   "cell_type": "code",
   "execution_count": 31,
   "metadata": {},
   "outputs": [
    {
     "name": "stdout",
     "output_type": "stream",
     "text": [
      "[1.30862364 2.39648011 1.44276759 2.63868932 1.4551769  1.43910371\n",
      " 1.01530687 2.86826142 1.07133999 2.1658556  2.08535028 2.246631\n",
      " 2.12968247 2.11322495 2.76204944 1.17249807 2.07003775 1.71060417\n",
      " 2.12982558 2.90262798]\n"
     ]
    }
   ],
   "source": [
    "vals = X.rvs(size=20)\n",
    "print(vals)"
   ]
  },
  {
   "cell_type": "markdown",
   "metadata": {},
   "source": [
    "### Exponentialfördelning\n",
    "\n",
    "På samma sätt kan vi betrakta $X \\sim \\mathrm{Exp}(2)$. Notera att i föreläsningarna (och i boken) använder vi definitionen\n",
    "$$\n",
    "    f_X(x) = \\left\\{ \\begin{array}{ll} \\lambda e^{-\\lambda x}, & x \\ge 0 \\\\ 0, & x < 0 \\end{array} \\right..\n",
    "$$\n",
    "Med andra ord så parametriserar vi fördelningen med den inversa skalan (eller *intensiteten*) $\\lambda$. Ju större $\\lambda$, desto mer koncentreras fördelningen runt noll. SciPy parametriserar som bekant fördelningar med avseende på skalan $\\theta$ och har då\n",
    "$$\n",
    "    f_X(x) = \\left\\{ \\begin{array}{ll} \\frac{1}{\\theta} e^{-x / \\theta}, & x \\ge 0 \\\\ 0, & x < 0 \\end{array} \\right..\n",
    "$$\n",
    "Vi måste alltså ta $\\theta = 1 / \\lambda$ för att få fördelningarna att överensstämma. Eftersom vi hade $\\lambda = 2$ ger detta då $\\theta = 0.5$."
   ]
  },
  {
   "cell_type": "code",
   "execution_count": 32,
   "metadata": {},
   "outputs": [],
   "source": [
    "X = stats.expon(scale=1 / 2)"
   ]
  },
  {
   "cell_type": "markdown",
   "metadata": {},
   "source": [
    "Plotta täthetsfunktionen och fördelningsfunktionen."
   ]
  },
  {
   "cell_type": "code",
   "execution_count": 33,
   "metadata": {},
   "outputs": [
    {
     "data": {
      "image/png": "[encoded data removed]",
      "text/plain": [
       "<Figure size 432x288 with 1 Axes>"
      ]
     },
     "metadata": {
      "needs_background": "light"
     },
     "output_type": "display_data"
    }
   ],
   "source": [
    "plt.plot(xs, X.pdf(xs))\n",
    "plt.xlabel(\"$x$\")\n",
    "plt.ylabel(\"$f_X(x)$\")\n",
    "plt.show()"
   ]
  },
  {
   "cell_type": "code",
   "execution_count": 34,
   "metadata": {},
   "outputs": [
    {
     "data": {
      "image/png": "[encoded data removed]",
      "text/plain": [
       "<Figure size 432x288 with 1 Axes>"
      ]
     },
     "metadata": {
      "needs_background": "light"
     },
     "output_type": "display_data"
    }
   ],
   "source": [
    "plt.plot(xs, X.cdf(xs))\n",
    "plt.xlabel(\"$x$\")\n",
    "plt.ylabel(\"$F_X(x)$\")\n",
    "plt.show()"
   ]
  },
  {
   "cell_type": "markdown",
   "metadata": {},
   "source": [
    "Som innan kan vi generera ett par värden hos den stokastiska variabeln."
   ]
  },
  {
   "cell_type": "code",
   "execution_count": 35,
   "metadata": {},
   "outputs": [
    {
     "name": "stdout",
     "output_type": "stream",
     "text": [
      "[1.37088717e+00 1.43973013e-03 6.14458564e-01 1.72131710e-01\n",
      " 5.60119581e-02 9.00901238e-01 4.46214332e-01 6.16015084e-01\n",
      " 5.66788806e-01 4.15141117e-01 1.42545408e-01 5.35074846e-02\n",
      " 8.49713568e-01 1.44561705e-01 2.55693278e-01 1.90952023e+00\n",
      " 2.52230113e-01 6.73240389e-01 3.65959277e-01 9.17853183e-01]\n"
     ]
    }
   ],
   "source": [
    "vals = X.rvs(size=20)\n",
    "print(vals)"
   ]
  },
  {
   "cell_type": "markdown",
   "metadata": {},
   "source": [
    "### Gammafördelningen\n",
    "\n",
    "På samma sätt kan vi betrakta $X \\sim \\mathrm{Gamma}(3, 2)$. I SciPy betecknas formparametern $\\alpha$ med `a`. Som innan kan vi skapa objektet, plotta täthetsfunktion och fördelningsfunktion samt generera ett par värden."
   ]
  },
  {
   "cell_type": "code",
   "execution_count": 36,
   "metadata": {},
   "outputs": [],
   "source": [
    "X = stats.gamma(a=3, scale=1 / 2)"
   ]
  },
  {
   "cell_type": "code",
   "execution_count": 37,
   "metadata": {},
   "outputs": [
    {
     "data": {
      "image/png": "[encoded data removed]",
      "text/plain": [
       "<Figure size 432x288 with 1 Axes>"
      ]
     },
     "metadata": {
      "needs_background": "light"
     },
     "output_type": "display_data"
    }
   ],
   "source": [
    "plt.plot(xs, X.pdf(xs))\n",
    "plt.xlabel(\"$x$\")\n",
    "plt.ylabel(\"$f_X(x)$\")\n",
    "plt.show()"
   ]
  },
  {
   "cell_type": "code",
   "execution_count": 38,
   "metadata": {},
   "outputs": [
    {
     "data": {
      "image/png": "[encoded data removed]",
      "text/plain": [
       "<Figure size 432x288 with 1 Axes>"
      ]
     },
     "metadata": {
      "needs_background": "light"
     },
     "output_type": "display_data"
    }
   ],
   "source": [
    "plt.plot(xs, X.cdf(xs))\n",
    "plt.xlabel(\"$x$\")\n",
    "plt.ylabel(\"$F_X(x)$\")\n",
    "plt.show()"
   ]
  },
  {
   "cell_type": "code",
   "execution_count": 39,
   "metadata": {},
   "outputs": [
    {
     "name": "stdout",
     "output_type": "stream",
     "text": [
      "[0.6837218  1.23259158 1.03182723 1.77453221 0.49785873 0.68036812\n",
      " 2.07314302 1.35379039 1.10916888 1.3463345  1.35269471 4.40898452\n",
      " 0.82997018 4.50144722 0.26216054 1.3472248  1.72442167 0.46800339\n",
      " 1.6151098  1.46415896]\n"
     ]
    }
   ],
   "source": [
    "vals = X.rvs(size=20)\n",
    "print(vals)"
   ]
  },
  {
   "cell_type": "markdown",
   "metadata": {},
   "source": [
    "### Normalfördelning\n",
    "\n",
    "Till sist har vi normalfördelningen $\\mathrm{N}(\\mu, \\sigma)$. Vi kan till exempel ta $X \\sim \\mathrm{N}(2, 0.4)$."
   ]
  },
  {
   "cell_type": "code",
   "execution_count": 40,
   "metadata": {},
   "outputs": [],
   "source": [
    "X = stats.norm(2, 0.4)"
   ]
  },
  {
   "cell_type": "code",
   "execution_count": 41,
   "metadata": {},
   "outputs": [
    {
     "data": {
      "image/png": "[encoded data removed]",
      "text/plain": [
       "<Figure size 432x288 with 1 Axes>"
      ]
     },
     "metadata": {
      "needs_background": "light"
     },
     "output_type": "display_data"
    }
   ],
   "source": [
    "plt.plot(xs, X.pdf(xs))\n",
    "plt.xlabel(\"$x$\")\n",
    "plt.ylabel(\"$f_X(x)$\")\n",
    "plt.show()"
   ]
  },
  {
   "cell_type": "code",
   "execution_count": 42,
   "metadata": {},
   "outputs": [
    {
     "data": {
      "image/png": "[encoded data removed]",
      "text/plain": [
       "<Figure size 432x288 with 1 Axes>"
      ]
     },
     "metadata": {
      "needs_background": "light"
     },
     "output_type": "display_data"
    }
   ],
   "source": [
    "plt.plot(xs, X.cdf(xs))\n",
    "plt.xlabel(\"$x$\")\n",
    "plt.ylabel(\"$F_X(x)$\")\n",
    "plt.show()"
   ]
  },
  {
   "cell_type": "code",
   "execution_count": 43,
   "metadata": {},
   "outputs": [
    {
     "name": "stdout",
     "output_type": "stream",
     "text": [
      "[1.89798022 1.53172009 1.80493717 2.07759036 2.08414054 1.96437861\n",
      " 1.73956517 1.9592217  1.9692898  2.36728466 1.81968465 1.76237136\n",
      " 1.71684    2.27626247 2.54284252 2.30029278 2.59006242 1.85210515\n",
      " 1.92888183 2.28826867]\n"
     ]
    }
   ],
   "source": [
    "vals = X.rvs(size=20)\n",
    "print(vals)"
   ]
  },
  {
   "cell_type": "markdown",
   "metadata": {},
   "source": [
    "### Fördelningsfunktion för diskreta fördelningar\n",
    "\n",
    "Vi noterar slutligen att metoden `cdf` också kan användas på diskreta fördelningar. Detta ger då den trappstegsfunktion som diskuterades på föreläsningen."
   ]
  },
  {
   "cell_type": "code",
   "execution_count": 44,
   "metadata": {},
   "outputs": [
    {
     "data": {
      "image/png": "[encoded data removed]",
      "text/plain": [
       "<Figure size 432x288 with 1 Axes>"
      ]
     },
     "metadata": {
      "needs_background": "light"
     },
     "output_type": "display_data"
    }
   ],
   "source": [
    "X = stats.binom(10, 1 / 6)\n",
    "\n",
    "xs = np.arange(0, 10 + 1)\n",
    "plt.bar(xs, X.pmf(xs))\n",
    "plt.xlabel(\"$x$\")\n",
    "plt.ylabel(\"$p_X(x)$\")\n",
    "plt.show()"
   ]
  },
  {
   "cell_type": "code",
   "execution_count": 45,
   "metadata": {},
   "outputs": [
    {
     "data": {
      "image/png": "[encoded data removed]",
      "text/plain": [
       "<Figure size 432x288 with 1 Axes>"
      ]
     },
     "metadata": {
      "needs_background": "light"
     },
     "output_type": "display_data"
    }
   ],
   "source": [
    "# Definiera finare uppdelning för att plotta fördelningsfunktionen.\n",
    "xs = np.linspace(0, 10, 100)\n",
    "\n",
    "plt.plot(xs, X.cdf(xs))\n",
    "plt.xlabel(\"$x$\")\n",
    "plt.ylabel(\"$F_X(x)$\")\n",
    "plt.show()"
   ]
  }
 ],
 "metadata": {
  "kernelspec": {
   "display_name": "Python 3",
   "language": "python",
   "name": "python3"
  },
  "language_info": {
   "codemirror_mode": {
    "name": "ipython",
    "version": 3
   },
   "file_extension": ".py",
   "mimetype": "text/x-python",
   "name": "python",
   "nbconvert_exporter": "python",
   "pygments_lexer": "ipython3",
   "version": "3.6.9"
  }
 },
 "nbformat": 4,
 "nbformat_minor": 4
}
